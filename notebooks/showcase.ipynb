{
 "cells": [
  {
   "cell_type": "code",
   "execution_count": 1,
   "id": "3c800451",
   "metadata": {},
   "outputs": [],
   "source": [
    "import os\n",
    "import pandas as pd\n",
    "import matplotlib.pyplot as plt"
   ]
  },
  {
   "cell_type": "markdown",
   "id": "3571ab7b",
   "metadata": {},
   "source": [
    "# PORT-CALLS"
   ]
  },
  {
   "cell_type": "markdown",
   "id": "aeb3aa9f",
   "metadata": {},
   "source": [
    "### Сущность данных\n",
    "Port call –  операция в морской логистике, когда судно останавливается в определенном порту для выполнения различных необходимых действий, таких как погрузка или разгрузка груза, заправка топливом, смена экипажа и ремонт. Этот процесс включает в себя несколько этапов, в том числе прибытие, швартовку, грузовые операции и отбытие. В нашем случае доступны только данные по **прибытиям и отбытиям**\n",
    "\n",
    "### Источник\n",
    "API [myshiptracking.com](myshiptracking.com)\n",
    "\n",
    "[Документация](https://api.myshiptracking.com/docs/port-calls)\n",
    "\n",
    "Сотрудники сайта любезно дали мне бесплатные кредиты на использование их API специально для выполнения целей исследования\n",
    "\n",
    "### Описание полей\n",
    "- event – тип события (ARRIVAL/DEPARTURE)\n",
    "- time_utc & time_local – таймстамп события\n",
    "- mmsi & imo – идентификаторы судна\n",
    "- vessel_name – название судна\n",
    "- port_id & unloco – идентификаторы порта\n",
    "- port_name – название порта\n",
    "\n",
    "### Временной период\n",
    "Данные доступны за весь 2024 \n",
    "\n",
    "\n",
    "### *Вспомогательные данные\n",
    "Отдельно собранная таблица с характеристиками судов, поля:\n",
    "- vessel_name – название судна\n",
    "- mmsi & imo – идентификатор судна \n",
    "- vessel_type – тип судна\n",
    "- flag – флаг страны судна\n",
    "- area – последняя зона нахождения судна"
   ]
  },
  {
   "cell_type": "code",
   "execution_count": 57,
   "id": "91dd378c",
   "metadata": {},
   "outputs": [
    {
     "data": {
      "application/vnd.microsoft.datawrangler.viewer.v0+json": {
       "columns": [
        {
         "name": "index",
         "rawType": "int64",
         "type": "integer"
        },
        {
         "name": "event",
         "rawType": "object",
         "type": "string"
        },
        {
         "name": "time_utc",
         "rawType": "datetime64[ns, UTC]",
         "type": "unknown"
        },
        {
         "name": "time_local",
         "rawType": "datetime64[ns, UTC]",
         "type": "unknown"
        },
        {
         "name": "mmsi",
         "rawType": "int64",
         "type": "integer"
        },
        {
         "name": "imo",
         "rawType": "float64",
         "type": "float"
        },
        {
         "name": "vessel_name",
         "rawType": "object",
         "type": "string"
        },
        {
         "name": "port_id",
         "rawType": "int64",
         "type": "integer"
        },
        {
         "name": "port_name",
         "rawType": "object",
         "type": "string"
        },
        {
         "name": "unloco",
         "rawType": "object",
         "type": "string"
        }
       ],
       "conversionMethod": "pd.DataFrame",
       "ref": "712047a8-cf59-44c0-8d5a-f75eed62fe0a",
       "rows": [
        [
         "0",
         "ARRIVAL",
         "2024-01-30 13:07:53+00:00",
         "2024-01-30 13:07:53+00:00",
         "253198000",
         null,
         "AVISOA",
         "6985",
         "TOAMASINA",
         "MGTOA"
        ],
        [
         "1",
         "DEPARTURE",
         "2024-01-30 10:51:18+00:00",
         "2024-01-30 10:51:18+00:00",
         "355280000",
         "9747120.0",
         "NORD OCEANIA",
         "6985",
         "TOAMASINA",
         "MGTOA"
        ],
        [
         "2",
         "DEPARTURE",
         "2024-01-29 04:26:42+00:00",
         "2024-01-29 04:26:42+00:00",
         "354858000",
         "9478793.0",
         "KOUROS GLORY",
         "6985",
         "TOAMASINA",
         "MGTOA"
        ],
        [
         "3",
         "ARRIVAL",
         "2024-01-29 02:22:21+00:00",
         "2024-01-29 02:22:21+00:00",
         "355280000",
         "9747120.0",
         "NORD OCEANIA",
         "6985",
         "TOAMASINA",
         "MGTOA"
        ],
        [
         "4",
         "DEPARTURE",
         "2024-01-28 11:33:30+00:00",
         "2024-01-28 11:33:30+00:00",
         "565795000",
         "9356830.0",
         "KOTA NABIL",
         "6985",
         "TOAMASINA",
         "MGTOA"
        ]
       ],
       "shape": {
        "columns": 9,
        "rows": 5
       }
      },
      "text/html": [
       "<div>\n",
       "<style scoped>\n",
       "    .dataframe tbody tr th:only-of-type {\n",
       "        vertical-align: middle;\n",
       "    }\n",
       "\n",
       "    .dataframe tbody tr th {\n",
       "        vertical-align: top;\n",
       "    }\n",
       "\n",
       "    .dataframe thead th {\n",
       "        text-align: right;\n",
       "    }\n",
       "</style>\n",
       "<table border=\"1\" class=\"dataframe\">\n",
       "  <thead>\n",
       "    <tr style=\"text-align: right;\">\n",
       "      <th></th>\n",
       "      <th>event</th>\n",
       "      <th>time_utc</th>\n",
       "      <th>time_local</th>\n",
       "      <th>mmsi</th>\n",
       "      <th>imo</th>\n",
       "      <th>vessel_name</th>\n",
       "      <th>port_id</th>\n",
       "      <th>port_name</th>\n",
       "      <th>unloco</th>\n",
       "    </tr>\n",
       "  </thead>\n",
       "  <tbody>\n",
       "    <tr>\n",
       "      <th>0</th>\n",
       "      <td>ARRIVAL</td>\n",
       "      <td>2024-01-30 13:07:53+00:00</td>\n",
       "      <td>2024-01-30 13:07:53+00:00</td>\n",
       "      <td>253198000</td>\n",
       "      <td>NaN</td>\n",
       "      <td>AVISOA</td>\n",
       "      <td>6985</td>\n",
       "      <td>TOAMASINA</td>\n",
       "      <td>MGTOA</td>\n",
       "    </tr>\n",
       "    <tr>\n",
       "      <th>1</th>\n",
       "      <td>DEPARTURE</td>\n",
       "      <td>2024-01-30 10:51:18+00:00</td>\n",
       "      <td>2024-01-30 10:51:18+00:00</td>\n",
       "      <td>355280000</td>\n",
       "      <td>9747120.0</td>\n",
       "      <td>NORD OCEANIA</td>\n",
       "      <td>6985</td>\n",
       "      <td>TOAMASINA</td>\n",
       "      <td>MGTOA</td>\n",
       "    </tr>\n",
       "    <tr>\n",
       "      <th>2</th>\n",
       "      <td>DEPARTURE</td>\n",
       "      <td>2024-01-29 04:26:42+00:00</td>\n",
       "      <td>2024-01-29 04:26:42+00:00</td>\n",
       "      <td>354858000</td>\n",
       "      <td>9478793.0</td>\n",
       "      <td>KOUROS GLORY</td>\n",
       "      <td>6985</td>\n",
       "      <td>TOAMASINA</td>\n",
       "      <td>MGTOA</td>\n",
       "    </tr>\n",
       "    <tr>\n",
       "      <th>3</th>\n",
       "      <td>ARRIVAL</td>\n",
       "      <td>2024-01-29 02:22:21+00:00</td>\n",
       "      <td>2024-01-29 02:22:21+00:00</td>\n",
       "      <td>355280000</td>\n",
       "      <td>9747120.0</td>\n",
       "      <td>NORD OCEANIA</td>\n",
       "      <td>6985</td>\n",
       "      <td>TOAMASINA</td>\n",
       "      <td>MGTOA</td>\n",
       "    </tr>\n",
       "    <tr>\n",
       "      <th>4</th>\n",
       "      <td>DEPARTURE</td>\n",
       "      <td>2024-01-28 11:33:30+00:00</td>\n",
       "      <td>2024-01-28 11:33:30+00:00</td>\n",
       "      <td>565795000</td>\n",
       "      <td>9356830.0</td>\n",
       "      <td>KOTA NABIL</td>\n",
       "      <td>6985</td>\n",
       "      <td>TOAMASINA</td>\n",
       "      <td>MGTOA</td>\n",
       "    </tr>\n",
       "  </tbody>\n",
       "</table>\n",
       "</div>"
      ],
      "text/plain": [
       "       event                  time_utc                time_local       mmsi  \\\n",
       "0    ARRIVAL 2024-01-30 13:07:53+00:00 2024-01-30 13:07:53+00:00  253198000   \n",
       "1  DEPARTURE 2024-01-30 10:51:18+00:00 2024-01-30 10:51:18+00:00  355280000   \n",
       "2  DEPARTURE 2024-01-29 04:26:42+00:00 2024-01-29 04:26:42+00:00  354858000   \n",
       "3    ARRIVAL 2024-01-29 02:22:21+00:00 2024-01-29 02:22:21+00:00  355280000   \n",
       "4  DEPARTURE 2024-01-28 11:33:30+00:00 2024-01-28 11:33:30+00:00  565795000   \n",
       "\n",
       "         imo   vessel_name  port_id  port_name unloco  \n",
       "0        NaN        AVISOA     6985  TOAMASINA  MGTOA  \n",
       "1  9747120.0  NORD OCEANIA     6985  TOAMASINA  MGTOA  \n",
       "2  9478793.0  KOUROS GLORY     6985  TOAMASINA  MGTOA  \n",
       "3  9747120.0  NORD OCEANIA     6985  TOAMASINA  MGTOA  \n",
       "4  9356830.0    KOTA NABIL     6985  TOAMASINA  MGTOA  "
      ]
     },
     "execution_count": 57,
     "metadata": {},
     "output_type": "execute_result"
    }
   ],
   "source": [
    "port_calls = pd.read_csv(\"../data/port_calls.csv\")\n",
    "port_calls['time_utc'] = pd.to_datetime(port_calls['time_utc'])\n",
    "port_calls['time_local'] = pd.to_datetime(port_calls['time_utc'])\n",
    "port_calls.head()"
   ]
  },
  {
   "cell_type": "code",
   "execution_count": 58,
   "id": "94a8641b",
   "metadata": {},
   "outputs": [
    {
     "name": "stdout",
     "output_type": "stream",
     "text": [
      "Записей: 143203\n",
      "Уникальных портов: 28\n",
      "Уникальных кораблей: 8741\n"
     ]
    }
   ],
   "source": [
    "print(f\"Записей: {port_calls.shape[0]}\")\n",
    "print(f\"Уникальных портов: {len(port_calls.port_name.unique())}\")\n",
    "print(f\"Уникальных кораблей: {len(port_calls.mmsi.unique())}\")"
   ]
  },
  {
   "cell_type": "code",
   "execution_count": 59,
   "id": "826806b0",
   "metadata": {},
   "outputs": [
    {
     "data": {
      "text/plain": [
       "event\n",
       "DEPARTURE    72027\n",
       "ARRIVAL      71176\n",
       "Name: count, dtype: int64"
      ]
     },
     "execution_count": 59,
     "metadata": {},
     "output_type": "execute_result"
    }
   ],
   "source": [
    "port_calls.event.value_counts()"
   ]
  },
  {
   "cell_type": "code",
   "execution_count": 60,
   "id": "d02c5fd9",
   "metadata": {},
   "outputs": [
    {
     "data": {
      "application/vnd.microsoft.datawrangler.viewer.v0+json": {
       "columns": [
        {
         "name": "index",
         "rawType": "int64",
         "type": "integer"
        },
        {
         "name": "mmsi",
         "rawType": "int64",
         "type": "integer"
        },
        {
         "name": "vessel_type",
         "rawType": "object",
         "type": "string"
        },
        {
         "name": "ais_type",
         "rawType": "float64",
         "type": "float"
        },
        {
         "name": "size_a",
         "rawType": "float64",
         "type": "float"
        },
        {
         "name": "size_b",
         "rawType": "float64",
         "type": "float"
        },
        {
         "name": "size_c",
         "rawType": "float64",
         "type": "float"
        },
        {
         "name": "size_d",
         "rawType": "float64",
         "type": "float"
        },
        {
         "name": "flag",
         "rawType": "object",
         "type": "string"
        },
        {
         "name": "gt",
         "rawType": "float64",
         "type": "float"
        },
        {
         "name": "dwt",
         "rawType": "float64",
         "type": "float"
        },
        {
         "name": "built",
         "rawType": "float64",
         "type": "float"
        },
        {
         "name": "avg_sog",
         "rawType": "float64",
         "type": "float"
        },
        {
         "name": "max_sog",
         "rawType": "float64",
         "type": "float"
        }
       ],
       "conversionMethod": "pd.DataFrame",
       "ref": "7dea6852-8a9f-4d4a-ae9f-2a0b017180f8",
       "rows": [
        [
         "0",
         "253198000",
         "Tanker",
         "80.0",
         "96.0",
         "23.0",
         "16.0",
         "1.0",
         "LU",
         null,
         null,
         null,
         "10.9",
         "13.2"
        ],
        [
         "1",
         "355280000",
         "Tanker",
         "80.0",
         "145.0",
         "36.0",
         "21.0",
         "11.0",
         "PA",
         null,
         null,
         null,
         null,
         null
        ],
        [
         "2",
         "354858000",
         "Bulk Carrier",
         "70.0",
         "162.0",
         "28.0",
         "19.0",
         "13.0",
         "PA",
         "31246.0",
         "55654.0",
         "2011.0",
         null,
         null
        ],
        [
         "3",
         "565795000",
         "Container Ship",
         "70.0",
         "139.0",
         "40.0",
         "22.0",
         "6.0",
         "SG",
         "20902.0",
         "26000.0",
         "2008.0",
         "12.5",
         "16.6"
        ],
        [
         "4",
         "477111700",
         "Container Ship",
         "70.0",
         "193.0",
         "16.0",
         "6.0",
         "24.0",
         "HK",
         "26404.0",
         "34194.0",
         "2008.0",
         "16.0",
         "19.9"
        ]
       ],
       "shape": {
        "columns": 13,
        "rows": 5
       }
      },
      "text/html": [
       "<div>\n",
       "<style scoped>\n",
       "    .dataframe tbody tr th:only-of-type {\n",
       "        vertical-align: middle;\n",
       "    }\n",
       "\n",
       "    .dataframe tbody tr th {\n",
       "        vertical-align: top;\n",
       "    }\n",
       "\n",
       "    .dataframe thead th {\n",
       "        text-align: right;\n",
       "    }\n",
       "</style>\n",
       "<table border=\"1\" class=\"dataframe\">\n",
       "  <thead>\n",
       "    <tr style=\"text-align: right;\">\n",
       "      <th></th>\n",
       "      <th>mmsi</th>\n",
       "      <th>vessel_type</th>\n",
       "      <th>ais_type</th>\n",
       "      <th>size_a</th>\n",
       "      <th>size_b</th>\n",
       "      <th>size_c</th>\n",
       "      <th>size_d</th>\n",
       "      <th>flag</th>\n",
       "      <th>gt</th>\n",
       "      <th>dwt</th>\n",
       "      <th>built</th>\n",
       "      <th>avg_sog</th>\n",
       "      <th>max_sog</th>\n",
       "    </tr>\n",
       "  </thead>\n",
       "  <tbody>\n",
       "    <tr>\n",
       "      <th>0</th>\n",
       "      <td>253198000</td>\n",
       "      <td>Tanker</td>\n",
       "      <td>80.0</td>\n",
       "      <td>96.0</td>\n",
       "      <td>23.0</td>\n",
       "      <td>16.0</td>\n",
       "      <td>1.0</td>\n",
       "      <td>LU</td>\n",
       "      <td>NaN</td>\n",
       "      <td>NaN</td>\n",
       "      <td>NaN</td>\n",
       "      <td>10.9</td>\n",
       "      <td>13.2</td>\n",
       "    </tr>\n",
       "    <tr>\n",
       "      <th>1</th>\n",
       "      <td>355280000</td>\n",
       "      <td>Tanker</td>\n",
       "      <td>80.0</td>\n",
       "      <td>145.0</td>\n",
       "      <td>36.0</td>\n",
       "      <td>21.0</td>\n",
       "      <td>11.0</td>\n",
       "      <td>PA</td>\n",
       "      <td>NaN</td>\n",
       "      <td>NaN</td>\n",
       "      <td>NaN</td>\n",
       "      <td>NaN</td>\n",
       "      <td>NaN</td>\n",
       "    </tr>\n",
       "    <tr>\n",
       "      <th>2</th>\n",
       "      <td>354858000</td>\n",
       "      <td>Bulk Carrier</td>\n",
       "      <td>70.0</td>\n",
       "      <td>162.0</td>\n",
       "      <td>28.0</td>\n",
       "      <td>19.0</td>\n",
       "      <td>13.0</td>\n",
       "      <td>PA</td>\n",
       "      <td>31246.0</td>\n",
       "      <td>55654.0</td>\n",
       "      <td>2011.0</td>\n",
       "      <td>NaN</td>\n",
       "      <td>NaN</td>\n",
       "    </tr>\n",
       "    <tr>\n",
       "      <th>3</th>\n",
       "      <td>565795000</td>\n",
       "      <td>Container Ship</td>\n",
       "      <td>70.0</td>\n",
       "      <td>139.0</td>\n",
       "      <td>40.0</td>\n",
       "      <td>22.0</td>\n",
       "      <td>6.0</td>\n",
       "      <td>SG</td>\n",
       "      <td>20902.0</td>\n",
       "      <td>26000.0</td>\n",
       "      <td>2008.0</td>\n",
       "      <td>12.5</td>\n",
       "      <td>16.6</td>\n",
       "    </tr>\n",
       "    <tr>\n",
       "      <th>4</th>\n",
       "      <td>477111700</td>\n",
       "      <td>Container Ship</td>\n",
       "      <td>70.0</td>\n",
       "      <td>193.0</td>\n",
       "      <td>16.0</td>\n",
       "      <td>6.0</td>\n",
       "      <td>24.0</td>\n",
       "      <td>HK</td>\n",
       "      <td>26404.0</td>\n",
       "      <td>34194.0</td>\n",
       "      <td>2008.0</td>\n",
       "      <td>16.0</td>\n",
       "      <td>19.9</td>\n",
       "    </tr>\n",
       "  </tbody>\n",
       "</table>\n",
       "</div>"
      ],
      "text/plain": [
       "        mmsi     vessel_type  ais_type  size_a  size_b  size_c  size_d flag  \\\n",
       "0  253198000          Tanker      80.0    96.0    23.0    16.0     1.0   LU   \n",
       "1  355280000          Tanker      80.0   145.0    36.0    21.0    11.0   PA   \n",
       "2  354858000    Bulk Carrier      70.0   162.0    28.0    19.0    13.0   PA   \n",
       "3  565795000  Container Ship      70.0   139.0    40.0    22.0     6.0   SG   \n",
       "4  477111700  Container Ship      70.0   193.0    16.0     6.0    24.0   HK   \n",
       "\n",
       "        gt      dwt   built  avg_sog  max_sog  \n",
       "0      NaN      NaN     NaN     10.9     13.2  \n",
       "1      NaN      NaN     NaN      NaN      NaN  \n",
       "2  31246.0  55654.0  2011.0      NaN      NaN  \n",
       "3  20902.0  26000.0  2008.0     12.5     16.6  \n",
       "4  26404.0  34194.0  2008.0     16.0     19.9  "
      ]
     },
     "execution_count": 60,
     "metadata": {},
     "output_type": "execute_result"
    }
   ],
   "source": [
    "files = [\"vessels_8.csv\", \"vessels_86.csv\"]\n",
    "\n",
    "dataframes = [pd.read_csv(os.path.join(\"../data/vessels\", file)) for file in files]\n",
    "vessels = pd.concat(dataframes, ignore_index=True)\n",
    "\n",
    "vessels = vessels[['mmsi', 'vessel_type',\n",
    "                   'ais_type', 'size_a', 'size_b', 'size_c', 'size_d', 'flag',\n",
    "                   'gt', 'dwt', 'built', 'avg_sog', 'max_sog']]\n",
    "vessels.head()"
   ]
  },
  {
   "cell_type": "code",
   "execution_count": 61,
   "id": "fae648f8",
   "metadata": {},
   "outputs": [],
   "source": [
    "port_calls = port_calls.merge(vessels, on='mmsi', how='left')"
   ]
  },
  {
   "cell_type": "code",
   "execution_count": 62,
   "id": "01dcd8df",
   "metadata": {},
   "outputs": [
    {
     "name": "stdout",
     "output_type": "stream",
     "text": [
      "<class 'pandas.core.frame.DataFrame'>\n",
      "RangeIndex: 144690 entries, 0 to 144689\n",
      "Data columns (total 21 columns):\n",
      " #   Column       Non-Null Count   Dtype              \n",
      "---  ------       --------------   -----              \n",
      " 0   event        144690 non-null  object             \n",
      " 1   time_utc     144690 non-null  datetime64[ns, UTC]\n",
      " 2   time_local   144690 non-null  datetime64[ns, UTC]\n",
      " 3   mmsi         144690 non-null  int64              \n",
      " 4   imo          94911 non-null   float64            \n",
      " 5   vessel_name  143313 non-null  object             \n",
      " 6   port_id      144690 non-null  int64              \n",
      " 7   port_name    144690 non-null  object             \n",
      " 8   unloco       144690 non-null  object             \n",
      " 9   vessel_type  144555 non-null  object             \n",
      " 10  ais_type     144559 non-null  float64            \n",
      " 11  size_a       144554 non-null  float64            \n",
      " 12  size_b       144554 non-null  float64            \n",
      " 13  size_c       144554 non-null  float64            \n",
      " 14  size_d       144554 non-null  float64            \n",
      " 15  flag         139884 non-null  object             \n",
      " 16  gt           52748 non-null   float64            \n",
      " 17  dwt          46627 non-null   float64            \n",
      " 18  built        52740 non-null   float64            \n",
      " 19  avg_sog      61141 non-null   float64            \n",
      " 20  max_sog      61141 non-null   float64            \n",
      "dtypes: datetime64[ns, UTC](2), float64(11), int64(2), object(6)\n",
      "memory usage: 23.2+ MB\n"
     ]
    }
   ],
   "source": [
    "port_calls.info()"
   ]
  },
  {
   "cell_type": "code",
   "execution_count": 63,
   "id": "bb6ccff8",
   "metadata": {},
   "outputs": [],
   "source": [
    "port_calls.to_csv(\"../data/proc_port_calls.csv\", index=False)"
   ]
  },
  {
   "cell_type": "markdown",
   "id": "cd94b458",
   "metadata": {},
   "source": [
    "Много пропусков в IMO, будем использовать mmsi. У каких-то кораблей нет названия – дропнуть? Думаю, необязательно"
   ]
  },
  {
   "cell_type": "code",
   "execution_count": 50,
   "id": "33afec4f",
   "metadata": {},
   "outputs": [],
   "source": [
    "port_calls.drop(columns=['imo'], inplace=True)   \n",
    "# port_calls.dropna(subset=['port_name', 'mmsi'], inplace=True)"
   ]
  },
  {
   "cell_type": "code",
   "execution_count": 51,
   "id": "cbbc50a9",
   "metadata": {},
   "outputs": [
    {
     "data": {
      "text/plain": [
       "mmsi\n",
       "634122000    3740\n",
       "634123000    3676\n",
       "375492000    2688\n",
       "376913000    2108\n",
       "375106000    1896\n",
       "             ... \n",
       "210885000       1\n",
       "630001135       1\n",
       "352001455       1\n",
       "477632400       1\n",
       "312562000       1\n",
       "Name: count, Length: 8741, dtype: int64"
      ]
     },
     "execution_count": 51,
     "metadata": {},
     "output_type": "execute_result"
    }
   ],
   "source": [
    "port_calls.mmsi.value_counts()"
   ]
  },
  {
   "cell_type": "markdown",
   "id": "804f7f28",
   "metadata": {},
   "source": [
    "Немало кораблей, которые очень часто делают port calls. Скорее всего, это пассажирские судна. Стоит ли их оставлять?"
   ]
  },
  {
   "cell_type": "code",
   "execution_count": 52,
   "id": "da50ef9c",
   "metadata": {},
   "outputs": [
    {
     "data": {
      "image/png": "[encoded data removed]",
      "text/plain": [
       "<Figure size 800x600 with 1 Axes>"
      ]
     },
     "metadata": {},
     "output_type": "display_data"
    }
   ],
   "source": [
    "vessels_per_port = port_calls.groupby('port_name')['mmsi'].nunique()\n",
    "vessels_per_port = vessels_per_port.sort_values(ascending=True)\n",
    "\n",
    "plt.figure(figsize=(8, 6))\n",
    "vessels_per_port.plot(kind='barh', color='skyblue')\n",
    "plt.title('Vessels per Port')\n",
    "plt.xlabel('Vessels')\n",
    "plt.ylabel('')\n",
    "plt.tight_layout()\n",
    "plt.show()"
   ]
  },
  {
   "cell_type": "markdown",
   "id": "c1c619e9",
   "metadata": {},
   "source": [
    "Распределение не выглядит слишком смещенным. Самый загруженный порт – Durban (South Africa). Из топ-5 портов 3 принадлежат ЮАР"
   ]
  },
  {
   "cell_type": "code",
   "execution_count": 53,
   "id": "2cdd26fe",
   "metadata": {},
   "outputs": [
    {
     "data": {
      "image/png": "[encoded data removed]",
      "text/plain": [
       "<Figure size 1600x600 with 2 Axes>"
      ]
     },
     "metadata": {},
     "output_type": "display_data"
    }
   ],
   "source": [
    "port_calls['month'] = port_calls['time_utc'].dt.month\n",
    "vessels_per_month = port_calls.groupby('month')['mmsi'].nunique()\n",
    "port_calls_per_month = port_calls.groupby('month').size()\n",
    "fig, axes = plt.subplots(1, 2, figsize=(16, 6), sharey=False)\n",
    "\n",
    "\n",
    "axes[0].bar(vessels_per_month.index, vessels_per_month.values, color='skyblue')\n",
    "axes[0].set_title('Vessels per Month')\n",
    "axes[0].set_xlabel('')\n",
    "axes[0].set_ylabel('Vessels')\n",
    "axes[0].set_xticks(range(1, 13))\n",
    "axes[0].set_xticklabels([\n",
    "    'Jan', 'Feb', 'Mar', 'Apr', 'May', 'Jun',\n",
    "    'Jul', 'Aug', 'Sep', 'Oct', 'Nov', 'Dec'\n",
    "], rotation=45)\n",
    "\n",
    "axes[1].bar(port_calls_per_month.index, port_calls_per_month.values, color='lightcoral')\n",
    "axes[1].set_title('Port Calls per Month')\n",
    "axes[1].set_xlabel('')\n",
    "axes[1].set_ylabel('Port Calls')\n",
    "axes[1].set_xticks(range(1, 13))\n",
    "axes[1].set_xticklabels([\n",
    "    'Jan', 'Feb', 'Mar', 'Apr', 'May', 'Jun',\n",
    "    'Jul', 'Aug', 'Sep', 'Oct', 'Nov', 'Dec'\n",
    "], rotation=45)\n",
    "\n",
    "plt.tight_layout()\n",
    "plt.show()"
   ]
  },
  {
   "cell_type": "markdown",
   "id": "71c7b22c",
   "metadata": {},
   "source": [
    "Распределение кораблей и port calls по месяцам равномерное."
   ]
  },
  {
   "cell_type": "code",
   "execution_count": 54,
   "id": "f82d5c9d",
   "metadata": {},
   "outputs": [
    {
     "data": {
      "text/plain": [
       "vessel_type\n",
       "Tug                     27248\n",
       "Passenger               19598\n",
       "Container Ship          13674\n",
       "Cargo                   10404\n",
       "Not available            9729\n",
       "                        ...  \n",
       "Ore/Oil Carrier             2\n",
       "Replenishment Vessel        1\n",
       "Fish Factory                1\n",
       "Pipe Layer                  1\n",
       "Pilot Ship                  1\n",
       "Name: count, Length: 102, dtype: int64"
      ]
     },
     "execution_count": 54,
     "metadata": {},
     "output_type": "execute_result"
    }
   ],
   "source": [
    "port_calls.vessel_type.value_counts()"
   ]
  },
  {
   "cell_type": "code",
   "execution_count": 55,
   "id": "466095c1",
   "metadata": {},
   "outputs": [
    {
     "data": {
      "text/plain": [
       "flag\n",
       "ZA    20217\n",
       "VC    15671\n",
       "PA    11899\n",
       "LR     9820\n",
       "KE     8984\n",
       "      ...  \n",
       "AO        1\n",
       "OM        1\n",
       "SV        1\n",
       "GM        1\n",
       "AZ        1\n",
       "Name: count, Length: 121, dtype: int64"
      ]
     },
     "execution_count": 55,
     "metadata": {},
     "output_type": "execute_result"
    }
   ],
   "source": [
    "port_calls.flag.value_counts()"
   ]
  },
  {
   "cell_type": "markdown",
   "id": "90377ee9",
   "metadata": {},
   "source": [
    "# COMMODITY PRICES"
   ]
  },
  {
   "cell_type": "markdown",
   "id": "0ff11181",
   "metadata": {},
   "source": [
    "\n",
    "### Сущность данных\n",
    "Shanghai Futures Exchange (SHFE) – крупнейшая биржа Китая. Данные представляют собой ключевые агрегированные по неделям показатели для различных фьючерсов (металлы, энергия, химия).\n",
    "\n",
    "### Источник\n",
    "[Сайт SHFE](https://tsite.shfe.com.cn/eng/reports/statistical/weekly/)\n",
    "\n",
    "\n",
    "\n",
    "### Описание полей\n",
    "- Species – код фьючерса. Например: cu2507 – фьючерс на медь\n",
    "- Weekly Opening Price\n",
    "- High\n",
    "- Low\n",
    "- Weekly Close\n",
    "- Net Change –\n",
    "- Open Interest –\n",
    "- O.I Change –\n",
    "- Weekly Volume –\n",
    "- Volume –\n",
    "- Turnover –\n",
    "- Week Start –\n",
    "- Week End –\n",
    "\n",
    "### Система счисления\n",
    "- RMB yuan/ton for Copper, Aluminum, Zinc, Nickel, Tin, Aluminium Oxide, Rebar, Wire-rod, Hot rolled coils, Lead, Natural Rubber, Fuel Oil, Bitumen, Woodpulp, Stainless Steel, Butadiene Rubber.\n",
    "- RMB yuan/g for Gold. RMB yuan/ kg for Sliver. RMB yuan/barrel for Crude Oil.\n",
    "- RMB yuan/ton for LSFO, TSR 20 and Copper(BC)\n",
    "\n",
    "### Временной период\n",
    "Данные доступны за 2023-2024\n",
    "\n",
    "Гранулярность – неделя"
   ]
  },
  {
   "cell_type": "code",
   "execution_count": 33,
   "id": "2303e090",
   "metadata": {},
   "outputs": [],
   "source": [
    "comm = pd.read_csv('/Users/dushamishkin/VSCProjects/BRI-thesis/data/commodities_cleaned.csv')\n",
    "\n",
    "comm = comm.drop(columns=['Extra_Column_13'])\n",
    "comm['Week Start'] = pd.to_datetime(comm['Week Start'])\n",
    "comm['Week End'] = pd.to_datetime(comm['Week End'])"
   ]
  },
  {
   "cell_type": "code",
   "execution_count": 34,
   "id": "f7a3723b",
   "metadata": {},
   "outputs": [
    {
     "data": {
      "text/plain": [
       "['Species',\n",
       " 'Weekly Opening Price',\n",
       " 'High',\n",
       " 'Low',\n",
       " 'Weekly Close',\n",
       " 'Net Change',\n",
       " 'Open Interest',\n",
       " 'O.I Change',\n",
       " 'Weekly Volume',\n",
       " 'Volume',\n",
       " 'Turnover',\n",
       " 'Week Start',\n",
       " 'Week End']"
      ]
     },
     "execution_count": 34,
     "metadata": {},
     "output_type": "execute_result"
    }
   ],
   "source": [
    "comm.columns.tolist()"
   ]
  },
  {
   "cell_type": "code",
   "execution_count": 26,
   "id": "62a16bf6",
   "metadata": {},
   "outputs": [
    {
     "data": {
      "text/html": [
       "<div>\n",
       "<style scoped>\n",
       "    .dataframe tbody tr th:only-of-type {\n",
       "        vertical-align: middle;\n",
       "    }\n",
       "\n",
       "    .dataframe tbody tr th {\n",
       "        vertical-align: top;\n",
       "    }\n",
       "\n",
       "    .dataframe thead th {\n",
       "        text-align: right;\n",
       "    }\n",
       "</style>\n",
       "<table border=\"1\" class=\"dataframe\">\n",
       "  <thead>\n",
       "    <tr style=\"text-align: right;\">\n",
       "      <th></th>\n",
       "      <th>Species</th>\n",
       "      <th>Weekly Opening Price</th>\n",
       "      <th>High</th>\n",
       "      <th>Low</th>\n",
       "      <th>Weekly Close</th>\n",
       "      <th>Net Change</th>\n",
       "      <th>Open Interest</th>\n",
       "      <th>O.I Change</th>\n",
       "      <th>Weekly Volume</th>\n",
       "      <th>Volume</th>\n",
       "      <th>Turnover</th>\n",
       "      <th>Week Start</th>\n",
       "      <th>Week End</th>\n",
       "    </tr>\n",
       "  </thead>\n",
       "  <tbody>\n",
       "    <tr>\n",
       "      <th>0</th>\n",
       "      <td>cu2406</td>\n",
       "      <td>80020.0</td>\n",
       "      <td>80380.0</td>\n",
       "      <td>79410.0</td>\n",
       "      <td>79580.0</td>\n",
       "      <td>-1620.0</td>\n",
       "      <td>30940</td>\n",
       "      <td>-4310</td>\n",
       "      <td>79750.0</td>\n",
       "      <td>16930.0</td>\n",
       "      <td>675123.80</td>\n",
       "      <td>2024-06-10</td>\n",
       "      <td>2024-06-16</td>\n",
       "    </tr>\n",
       "    <tr>\n",
       "      <th>1</th>\n",
       "      <td>cu2407</td>\n",
       "      <td>80620.0</td>\n",
       "      <td>80680.0</td>\n",
       "      <td>79600.0</td>\n",
       "      <td>79870.0</td>\n",
       "      <td>-1660.0</td>\n",
       "      <td>173378</td>\n",
       "      <td>-3452</td>\n",
       "      <td>80090.0</td>\n",
       "      <td>91327.0</td>\n",
       "      <td>3657570.66</td>\n",
       "      <td>2024-06-10</td>\n",
       "      <td>2024-06-16</td>\n",
       "    </tr>\n",
       "    <tr>\n",
       "      <th>2</th>\n",
       "      <td>cu2408</td>\n",
       "      <td>80330.0</td>\n",
       "      <td>80890.0</td>\n",
       "      <td>79780.0</td>\n",
       "      <td>80070.0</td>\n",
       "      <td>-1650.0</td>\n",
       "      <td>147488</td>\n",
       "      <td>-1723</td>\n",
       "      <td>80310.0</td>\n",
       "      <td>60556.0</td>\n",
       "      <td>2431780.53</td>\n",
       "      <td>2024-06-10</td>\n",
       "      <td>2024-06-16</td>\n",
       "    </tr>\n",
       "    <tr>\n",
       "      <th>3</th>\n",
       "      <td>cu2409</td>\n",
       "      <td>80700.0</td>\n",
       "      <td>81020.0</td>\n",
       "      <td>79900.0</td>\n",
       "      <td>80180.0</td>\n",
       "      <td>-1600.0</td>\n",
       "      <td>93078</td>\n",
       "      <td>-891</td>\n",
       "      <td>80420.0</td>\n",
       "      <td>43176.0</td>\n",
       "      <td>1736189.14</td>\n",
       "      <td>2024-06-10</td>\n",
       "      <td>2024-06-16</td>\n",
       "    </tr>\n",
       "    <tr>\n",
       "      <th>4</th>\n",
       "      <td>cu2410</td>\n",
       "      <td>80760.0</td>\n",
       "      <td>81130.0</td>\n",
       "      <td>80020.0</td>\n",
       "      <td>80290.0</td>\n",
       "      <td>-1590.0</td>\n",
       "      <td>38283</td>\n",
       "      <td>-99</td>\n",
       "      <td>80550.0</td>\n",
       "      <td>10716.0</td>\n",
       "      <td>431602.87</td>\n",
       "      <td>2024-06-10</td>\n",
       "      <td>2024-06-16</td>\n",
       "    </tr>\n",
       "  </tbody>\n",
       "</table>\n",
       "</div>"
      ],
      "text/plain": [
       "                          Species  Weekly Opening Price     High      Low  \\\n",
       "0  cu2406                                       80020.0  80380.0  79410.0   \n",
       "1  cu2407                                       80620.0  80680.0  79600.0   \n",
       "2  cu2408                                       80330.0  80890.0  79780.0   \n",
       "3  cu2409                                       80700.0  81020.0  79900.0   \n",
       "4  cu2410                                       80760.0  81130.0  80020.0   \n",
       "\n",
       "   Weekly Close  Net Change  Open Interest  O.I Change  Weekly Volume  \\\n",
       "0       79580.0     -1620.0          30940       -4310        79750.0   \n",
       "1       79870.0     -1660.0         173378       -3452        80090.0   \n",
       "2       80070.0     -1650.0         147488       -1723        80310.0   \n",
       "3       80180.0     -1600.0          93078        -891        80420.0   \n",
       "4       80290.0     -1590.0          38283         -99        80550.0   \n",
       "\n",
       "    Volume    Turnover Week Start   Week End  \n",
       "0  16930.0   675123.80 2024-06-10 2024-06-16  \n",
       "1  91327.0  3657570.66 2024-06-10 2024-06-16  \n",
       "2  60556.0  2431780.53 2024-06-10 2024-06-16  \n",
       "3  43176.0  1736189.14 2024-06-10 2024-06-16  \n",
       "4  10716.0   431602.87 2024-06-10 2024-06-16  "
      ]
     },
     "execution_count": 26,
     "metadata": {},
     "output_type": "execute_result"
    }
   ],
   "source": [
    "comm.head()"
   ]
  },
  {
   "cell_type": "code",
   "execution_count": null,
   "id": "25bd343e",
   "metadata": {},
   "outputs": [
    {
     "name": "stdout",
     "output_type": "stream",
     "text": [
      "Записей: 22707\n",
      "Уникальных фьючерсов: 759\n",
      "Недель: 99\n"
     ]
    }
   ],
   "source": [
    "print(f\"Записей: {comm.shape[0]}\")\n",
    "print(f\"Уникальных фьючерсов: {len(comm['Species'].unique())}\")\n",
    "print(f\"Недель: {len(comm['Week Start'].unique())}\")"
   ]
  },
  {
   "cell_type": "code",
   "execution_count": null,
   "id": "c1e146ed",
   "metadata": {},
   "outputs": [
    {
     "name": "stdout",
     "output_type": "stream",
     "text": [
      "<class 'pandas.core.frame.DataFrame'>\n",
      "RangeIndex: 22707 entries, 0 to 22706\n",
      "Data columns (total 13 columns):\n",
      " #   Column                Non-Null Count  Dtype         \n",
      "---  ------                --------------  -----         \n",
      " 0   Species               22707 non-null  object        \n",
      " 1   Weekly Opening Price  22707 non-null  float64       \n",
      " 2   High                  22707 non-null  float64       \n",
      " 3   Low                   22707 non-null  float64       \n",
      " 4   Weekly Close          22707 non-null  float64       \n",
      " 5   Net Change            22707 non-null  float64       \n",
      " 6   Open Interest         22707 non-null  int64         \n",
      " 7   O.I Change            22707 non-null  int64         \n",
      " 8   Weekly Volume         22707 non-null  float64       \n",
      " 9   Volume                22707 non-null  float64       \n",
      " 10  Turnover              22707 non-null  float64       \n",
      " 11  Week Start            22707 non-null  datetime64[ns]\n",
      " 12  Week End              22707 non-null  datetime64[ns]\n",
      "dtypes: datetime64[ns](2), float64(8), int64(2), object(1)\n",
      "memory usage: 2.3+ MB\n"
     ]
    }
   ],
   "source": [
    "comm.info()"
   ]
  },
  {
   "cell_type": "code",
   "execution_count": 30,
   "id": "c67508bf",
   "metadata": {},
   "outputs": [
    {
     "data": {
      "text/html": [
       "<div>\n",
       "<style scoped>\n",
       "    .dataframe tbody tr th:only-of-type {\n",
       "        vertical-align: middle;\n",
       "    }\n",
       "\n",
       "    .dataframe tbody tr th {\n",
       "        vertical-align: top;\n",
       "    }\n",
       "\n",
       "    .dataframe thead th {\n",
       "        text-align: right;\n",
       "    }\n",
       "</style>\n",
       "<table border=\"1\" class=\"dataframe\">\n",
       "  <thead>\n",
       "    <tr style=\"text-align: right;\">\n",
       "      <th></th>\n",
       "      <th>Weekly Opening Price</th>\n",
       "      <th>High</th>\n",
       "      <th>Low</th>\n",
       "      <th>Weekly Close</th>\n",
       "      <th>Net Change</th>\n",
       "      <th>Open Interest</th>\n",
       "      <th>O.I Change</th>\n",
       "      <th>Weekly Volume</th>\n",
       "      <th>Volume</th>\n",
       "      <th>Turnover</th>\n",
       "      <th>Week Start</th>\n",
       "      <th>Week End</th>\n",
       "    </tr>\n",
       "  </thead>\n",
       "  <tbody>\n",
       "    <tr>\n",
       "      <th>count</th>\n",
       "      <td>22707.000000</td>\n",
       "      <td>22707.000000</td>\n",
       "      <td>22707.000000</td>\n",
       "      <td>22707.000000</td>\n",
       "      <td>22707.000000</td>\n",
       "      <td>2.270700e+04</td>\n",
       "      <td>22707.000000</td>\n",
       "      <td>22707.000000</td>\n",
       "      <td>2.270700e+04</td>\n",
       "      <td>2.270700e+04</td>\n",
       "      <td>22707</td>\n",
       "      <td>22707</td>\n",
       "    </tr>\n",
       "    <tr>\n",
       "      <th>mean</th>\n",
       "      <td>30938.948110</td>\n",
       "      <td>31215.618594</td>\n",
       "      <td>30598.763057</td>\n",
       "      <td>30889.538521</td>\n",
       "      <td>15.643622</td>\n",
       "      <td>4.157920e+04</td>\n",
       "      <td>70.348395</td>\n",
       "      <td>30900.868466</td>\n",
       "      <td>5.025254e+04</td>\n",
       "      <td>5.036330e+05</td>\n",
       "      <td>2024-01-15 13:24:22.544590080</td>\n",
       "      <td>2024-01-21 13:24:22.544590080</td>\n",
       "    </tr>\n",
       "    <tr>\n",
       "      <th>min</th>\n",
       "      <td>408.600000</td>\n",
       "      <td>411.040000</td>\n",
       "      <td>408.260000</td>\n",
       "      <td>410.340000</td>\n",
       "      <td>-15000.000000</td>\n",
       "      <td>0.000000e+00</td>\n",
       "      <td>-661916.000000</td>\n",
       "      <td>410.080000</td>\n",
       "      <td>1.000000e+00</td>\n",
       "      <td>3.100000e+00</td>\n",
       "      <td>2023-01-02 00:00:00</td>\n",
       "      <td>2023-01-08 00:00:00</td>\n",
       "    </tr>\n",
       "    <tr>\n",
       "      <th>25%</th>\n",
       "      <td>3639.000000</td>\n",
       "      <td>3669.000000</td>\n",
       "      <td>3605.000000</td>\n",
       "      <td>3634.000000</td>\n",
       "      <td>-75.000000</td>\n",
       "      <td>3.000000e+02</td>\n",
       "      <td>-16.000000</td>\n",
       "      <td>3638.000000</td>\n",
       "      <td>4.000000e+01</td>\n",
       "      <td>3.618450e+02</td>\n",
       "      <td>2023-07-17 00:00:00</td>\n",
       "      <td>2023-07-23 00:00:00</td>\n",
       "    </tr>\n",
       "    <tr>\n",
       "      <th>50%</th>\n",
       "      <td>7583.000000</td>\n",
       "      <td>7678.000000</td>\n",
       "      <td>7461.000000</td>\n",
       "      <td>7596.000000</td>\n",
       "      <td>-3.440000</td>\n",
       "      <td>3.181000e+03</td>\n",
       "      <td>3.000000</td>\n",
       "      <td>7565.000000</td>\n",
       "      <td>7.420000e+02</td>\n",
       "      <td>7.102260e+03</td>\n",
       "      <td>2024-01-29 00:00:00</td>\n",
       "      <td>2024-02-04 00:00:00</td>\n",
       "    </tr>\n",
       "    <tr>\n",
       "      <th>75%</th>\n",
       "      <td>19050.000000</td>\n",
       "      <td>19157.500000</td>\n",
       "      <td>18875.000000</td>\n",
       "      <td>19030.000000</td>\n",
       "      <td>50.000000</td>\n",
       "      <td>2.468000e+04</td>\n",
       "      <td>201.000000</td>\n",
       "      <td>19002.500000</td>\n",
       "      <td>1.643750e+04</td>\n",
       "      <td>1.675416e+05</td>\n",
       "      <td>2024-07-15 00:00:00</td>\n",
       "      <td>2024-07-21 00:00:00</td>\n",
       "    </tr>\n",
       "    <tr>\n",
       "      <th>max</th>\n",
       "      <td>285280.000000</td>\n",
       "      <td>294460.000000</td>\n",
       "      <td>285050.000000</td>\n",
       "      <td>287200.000000</td>\n",
       "      <td>229700.000000</td>\n",
       "      <td>2.344611e+06</td>\n",
       "      <td>380096.000000</td>\n",
       "      <td>290670.000000</td>\n",
       "      <td>1.161724e+07</td>\n",
       "      <td>7.957663e+07</td>\n",
       "      <td>2024-12-23 00:00:00</td>\n",
       "      <td>2024-12-29 00:00:00</td>\n",
       "    </tr>\n",
       "    <tr>\n",
       "      <th>std</th>\n",
       "      <td>57337.092511</td>\n",
       "      <td>57904.676529</td>\n",
       "      <td>56628.827245</td>\n",
       "      <td>57221.456873</td>\n",
       "      <td>2967.914987</td>\n",
       "      <td>1.489497e+05</td>\n",
       "      <td>10816.345033</td>\n",
       "      <td>57252.472672</td>\n",
       "      <td>2.455583e+05</td>\n",
       "      <td>2.155992e+06</td>\n",
       "      <td>NaN</td>\n",
       "      <td>NaN</td>\n",
       "    </tr>\n",
       "  </tbody>\n",
       "</table>\n",
       "</div>"
      ],
      "text/plain": [
       "       Weekly Opening Price           High            Low   Weekly Close  \\\n",
       "count          22707.000000   22707.000000   22707.000000   22707.000000   \n",
       "mean           30938.948110   31215.618594   30598.763057   30889.538521   \n",
       "min              408.600000     411.040000     408.260000     410.340000   \n",
       "25%             3639.000000    3669.000000    3605.000000    3634.000000   \n",
       "50%             7583.000000    7678.000000    7461.000000    7596.000000   \n",
       "75%            19050.000000   19157.500000   18875.000000   19030.000000   \n",
       "max           285280.000000  294460.000000  285050.000000  287200.000000   \n",
       "std            57337.092511   57904.676529   56628.827245   57221.456873   \n",
       "\n",
       "          Net Change  Open Interest     O.I Change  Weekly Volume  \\\n",
       "count   22707.000000   2.270700e+04   22707.000000   22707.000000   \n",
       "mean       15.643622   4.157920e+04      70.348395   30900.868466   \n",
       "min    -15000.000000   0.000000e+00 -661916.000000     410.080000   \n",
       "25%       -75.000000   3.000000e+02     -16.000000    3638.000000   \n",
       "50%        -3.440000   3.181000e+03       3.000000    7565.000000   \n",
       "75%        50.000000   2.468000e+04     201.000000   19002.500000   \n",
       "max    229700.000000   2.344611e+06  380096.000000  290670.000000   \n",
       "std      2967.914987   1.489497e+05   10816.345033   57252.472672   \n",
       "\n",
       "             Volume      Turnover                     Week Start  \\\n",
       "count  2.270700e+04  2.270700e+04                          22707   \n",
       "mean   5.025254e+04  5.036330e+05  2024-01-15 13:24:22.544590080   \n",
       "min    1.000000e+00  3.100000e+00            2023-01-02 00:00:00   \n",
       "25%    4.000000e+01  3.618450e+02            2023-07-17 00:00:00   \n",
       "50%    7.420000e+02  7.102260e+03            2024-01-29 00:00:00   \n",
       "75%    1.643750e+04  1.675416e+05            2024-07-15 00:00:00   \n",
       "max    1.161724e+07  7.957663e+07            2024-12-23 00:00:00   \n",
       "std    2.455583e+05  2.155992e+06                            NaN   \n",
       "\n",
       "                            Week End  \n",
       "count                          22707  \n",
       "mean   2024-01-21 13:24:22.544590080  \n",
       "min              2023-01-08 00:00:00  \n",
       "25%              2023-07-23 00:00:00  \n",
       "50%              2024-02-04 00:00:00  \n",
       "75%              2024-07-21 00:00:00  \n",
       "max              2024-12-29 00:00:00  \n",
       "std                              NaN  "
      ]
     },
     "execution_count": 30,
     "metadata": {},
     "output_type": "execute_result"
    }
   ],
   "source": [
    "comm.describe()"
   ]
  },
  {
   "cell_type": "code",
   "execution_count": 37,
   "id": "760c31f3",
   "metadata": {},
   "outputs": [
    {
     "data": {
      "text/plain": [
       "Species\n",
       "bu2412                            96\n",
       "bu2503                            85\n",
       "bu2409                            83\n",
       "bu2506                            76\n",
       "sc2412                            74\n",
       "                                  ..\n",
       "wr2402                             1\n",
       "wr2507                             1\n",
       "wr2504                             1\n",
       "wr2412                             1\n",
       "wr2312                             1\n",
       "Name: count, Length: 759, dtype: int64"
      ]
     },
     "execution_count": 37,
     "metadata": {},
     "output_type": "execute_result"
    }
   ],
   "source": [
    "comm['Species'].value_counts()"
   ]
  },
  {
   "cell_type": "markdown",
   "id": "fa7e9cd1",
   "metadata": {},
   "source": [
    "Возможно, фьючерсы с маленьким числом записей придется дропнуть"
   ]
  },
  {
   "cell_type": "markdown",
   "id": "f8a66f7b",
   "metadata": {},
   "source": [
    "# News"
   ]
  },
  {
   "cell_type": "markdown",
   "id": "b020d2eb",
   "metadata": {},
   "source": [
    "\n",
    "### Сущность данных\n",
    "Тексты статей на китайском языке, спаршенные с известного китайского новостного ресурса Yicai. Статьи были взяты из раздела \"Финансы\". \n",
    "\n",
    "### Источник\n",
    "[Yicai Finance News](https://www.yicai.com/news/jinrong/)\n",
    "\n",
    "### Поля\n",
    "- datetime\n",
    "- title\n",
    "- text\n",
    "\n",
    "### Временной период\n",
    "Данные доступны за 2023-2024\n",
    "\n",
    "Гранулярность – день"
   ]
  },
  {
   "cell_type": "code",
   "execution_count": 5,
   "id": "80db1c14",
   "metadata": {},
   "outputs": [],
   "source": [
    "files = [\"2022-12-14.csv\", \"2023-12-01.csv\", \"2024-12-19.csv\"]\n",
    "\n",
    "dataframes = [pd.read_csv(os.path.join(\"../data/news\", file)) for file in files]\n",
    "news = pd.concat(dataframes, ignore_index=True)"
   ]
  },
  {
   "cell_type": "code",
   "execution_count": 6,
   "id": "ebea016f",
   "metadata": {},
   "outputs": [
    {
     "data": {
      "application/vnd.microsoft.datawrangler.viewer.v0+json": {
       "columns": [
        {
         "name": "index",
         "rawType": "int64",
         "type": "integer"
        },
        {
         "name": "title",
         "rawType": "object",
         "type": "string"
        },
        {
         "name": "datetime",
         "rawType": "datetime64[ns]",
         "type": "datetime"
        },
        {
         "name": "text",
         "rawType": "object",
         "type": "string"
        },
        {
         "name": "text_length",
         "rawType": "int64",
         "type": "integer"
        }
       ],
       "conversionMethod": "pd.DataFrame",
       "ref": "ddaf3649-032f-4bb5-9b61-4f1e66c835e1",
       "rows": [
        [
         "0",
         "央行：11月对金融机构开展常备借贷便利操作共48.71亿元",
         "2023-12-01 16:29:00",
         "12月1日，央行公布2023年11月常备借贷便利开展情况。为满足金融机构临时性流动性需求，2023年11月，人民银行对金融机构开展常备借贷便利操作共48.71亿元，其中隔夜期19.41亿元，7天期22.00亿元，1个月期7.30亿元。期末常备借贷便利余额为26.10亿元。常备借贷便利利率发挥了利率走廊上限的作用，有利于维护货币市场利率平稳运行。隔夜、7天、1个月常备借贷便利利率分别为2.65%、2.80%、3.15%。",
         "211"
        ],
        [
         "1",
         "汇正财经荣获第六届社会责任大会“年度最有温度金融公司”称号",
         "2023-12-01 15:43:00",
         "2023年11月29日，第六届社会责任大会暨“2023奥纳奖颁奖典礼”在北京召开。凭借多年来在社会责任、公益捐赠、投资者教育等领域的实践和担当，汇正财经在众多参选企业中脱颖而出，荣获“奥纳奖-年度最有温度金融公司”殊荣，充分体现了公司在社会公益的责任担当和表现获得了社会权威机构的高度认可。\n作为推动中国高质量发展的重要基石，履行包括公益在内的社会责任已经成为促进社会公平正义、推动平等教育、共同富裕和可持续发展的必要条件之一。从党的重要会议到《政府工作报告》，都明确指出要引导、支持公益慈善事业发展，这也是创新社会治理的题中之义。\n本次大会以“共创责任现代化”为主题，汇集了众多专家学者、社会组织、企业代表、媒体领袖等各界嘉宾，通过跨领域交流，聚集社会力量，共享可持续发展智慧，重塑企业的社会价值，开启责任的新未来。据了解，社会责任大会自2018年成立以来，已经成为推广企业社会责任理念的首要平台。\n中国社会工作联合会、企业公民与工会社会工作委员会首席顾问刘卫华在发表致辞时表示，企业的发展，品牌是灵魂，责任为根本。在新时期发展背景下，越来越多的企业将助学助困、环境保护等因素融入自身的运营和核心战略之中，主动承担更多的社会责任，成为企业品牌经久不衰的“金钥匙”。\n在本次大会上，为表彰优秀组织所做的杰出贡献，树立公益典范，特别设置了“奥纳奖”颁奖盛典。奖项取自“Honour”，寓意“荣誉、光荣”。阿里巴巴、广发证券、中兴通讯等众多承担社会责任的优秀企业和公益机构，都曾因卓越的公益实践获此殊荣。\n一直以来，汇正财经始终坚持“帮助投资者实现财富保值、增值”的使命，致力于帮助投资者理清财富理念，引导其创建投资体系。通过提供优质的证券研究报告、金融数据分析、软件服务、资讯传递及投资者教育培训等在线投顾服务。凭借强大的研究实力与完善的服务体系，公司已发展成为国内领先的在线投顾服务提供商。\n在实现自身可持续发展的同时，汇正财经也关注着全球的可持续发展问题。近日，汇正财经成功通过联合国全球契约办公室审核，正式加入联合国全球契约组织(United Nations Global Compact，以下简称“UNGC”)，成为中国首家证券投资咨询领域的组织成员。这一重要举措标志着汇正财经在企业社会责任方面的积极践行。\n随着ESG逐步成为经济发展导向，汇正财经也持续关注符合ESG理念的行业发展，并将其作为长期投资目标。在此次大会上，汇正研究所研究员刘勇在“ESG理念下科技产业投资方向”的主题分享时表示从环境友好、社会友好和员工权益这三个大方向来看，低碳能源、数字经济和智能制造这三个大方向非常符合ESG的发展理念，并指出当前ESG已经得到社会广泛关注，符合ESG理念的产业发展，会带来更多投资机会。\n汇正财经产品研发中心负责人周荣圣在接受大会主持人采访时表示，汇正财经长期关注中小投资者权益，利用自身的数字技术优势，以科技手段赋能投资者教育，帮助投资者提升金融素养和理性投资意识。此外公司也高度关注助推金融人才成长，与上海SMG第一财经广播联合打造的第15届“未来理财师”大学生理财大赛，走进高校与现场的大学生们进行了交流互动。以产、教、媒多方深度融合，对话Z时代新力量，普及投资者教育，助推金融人才成长。\n未来，汇正财经将继续秉持可持续发展理念，积极推动数字化创新与应用。在探索可持续发展投资理念的同时，全面推进负责任的公司治理和商业实践。通过与合作伙伴的共同努力，为资本市场的高质量发展贡献力量。",
         "1450"
        ],
        [
         "2",
         "近期密集出台金融政策，一文速览！",
         "2023-12-01 15:21:00",
         "中央金融工作会议强调，要加快建设金融强国，全面加强金融监管，完善金融体制，优化金融服务，防范化解风险，推动我国金融高质量发展。近期，系列金融政策密集出台，一文速览——\n推动金融高质量发展\n中央金融委员会会议审议推动金融高质量发展相关重点任务分工方案\n11月20日中央金融委员会会议审议通过了推动金融高质量发展相关重点任务分工方案。会议强调，要着力提升金融服务经济社会发展的质量水平，在保持货币政策稳健性的基础上，加大对重大战略、重点领域和薄弱环节的支持力度，围绕做好科技金融、绿色金融、普惠金融、养老金融、数字金融五篇大文章，抓紧研究出台具体政策和工作举措，把握好时机、节奏和力度，扎实推动金融业开放行稳致远，促进金融业更好发展壮大。要全面加强金融监管，压紧压实金融风险处置责任，加强部门协同和上下联动，在持续加大存量风险化解力度的同时，强化源头管控，深化相关领域改革，完善风险防范、预警和处置机制，共同把防范化解风险任务抓实抓好。要坚持党对金融工作的全面领导，切实加强金融系统党的建设，发挥各级党组织战斗堡垒作用，强化高素质干部人才队伍建设，按照分工方案要求严格履职尽责，全力推动各项任务落地见效。\n坚持金融服务实体经济\n八部门发布金融支持民营经济25条举措\n中国人民银行、金融监管总局、中国证监会等八部门联合印发《关于强化金融支持举措 助力民营经济发展壮大的通知》，明确金融服务民营企业的目标和重点，并提出支持民营经济的25条具体举措，持续加强民营企业金融服务。《通知》明确，在总量上，要通过制定民营企业年度服务目标、提高服务民营企业相关业务在绩效考核中的权重等，加大对民营企业的金融支持力度，逐步提升民营企业贷款占比。在结构上，要加大对科技创新、“专精特新”、绿色低碳、产业基础再造工程等重点领域以及民营中小微企业的支持力度。要从民营企业融资需求特点出发，着力畅通信贷、债券、股权等多元化融资渠道。银行业金融机构要加大首贷、信用贷支持力度，积极开展产业链供应链金融服务，不盲目停贷、压贷、抽贷、断贷。\n四部门：加大力度支持科技型企业融资\n中国人民银行、科技部、国家金融监管总局、中国证监会联合召开科技金融工作交流推进会。会议提出，把更多金融资源用于促进科技创新。要聚焦科技创新的重点领域和金融服务的短板弱项，深化金融供给侧结构性改革，推动完善包括信贷、债券、股票、保险、创业投资、融资担保在内全方位、多层次的科技金融服务体系。会议强调，金融管理部门、科技部门和各金融机构要抓紧制定加大力度支持科技型企业融资的实施措施，推动工作落实。进一步健全国家重大科技任务和科技型中小企业两个重点领域的金融支持政策体系，组织开展科技金融服务能力提升专项行动。加强科技公共信息共享、融资担保、知识产权评估交易等配套支撑，健全科技金融统计和评估体系。\n三部门：增强金融支持实体经济的可持续性\n11月17日，中国人民银行、国家金融监督管理总局、中国证监会联合召开会议，表示将继续加大政策落实和工作推进力度，加大对重大战略、重点领域和薄弱环节的金融支持，增强金融支持实体经济的可持续性。在房地产金融领域，三部门要求，各金融机构坚持“两个毫不动摇”，一视同仁满足不同所有制房地产企业合理融资需求，对正常经营的房地产企业不惜贷、抽贷、断贷。继续用好“第二支箭”支持民营房地产企业发债融资，支持房地产企业通过资本市场合理股权融资。加大保交楼金融支持，推动行业并购重组，积极服务保障性住房等“三大工程”建设。在防范化解地方债务风险方面，三部门要求，金融机构要完善工作机制，与融资平台开展平等协商，通过展期、借新还旧、置换等方式，合理降低债务成本、优化期限结构，确保金融支持地方债务风险化解工作落实落细。\n加强金融监管\n国务院常务会议审议通过《非银行支付机构监督管理条例》\n11月24日国务院常务会议审议通过《非银行支付机构监督管理条例》。会议指出，非银行支付行业发展对于活跃交易、繁荣市场有着重要作用，为助力实体经济发展和民生改善作出了积极贡献。要引导支付机构牢固树立“支付为民”理念，坚守小额、便民宗旨，专注主业、提升服务，更好满足用户支付结算需求。要以实施《非银行支付机构监督管理条例》为契机，强化全链条、全周期监管，严把支付机构准入关，防范业务异化、资金挪用、数据泄露等风险，严防利用支付平台从事非法集资、电信网络诈骗等违法犯罪活动，促进行业良性竞争和规范健康发展。\n国家金融监督管理总局发布《信托公司监管评级与分级分类监管暂行办法》\n为加强信托公司差异化监管，在监管评级中体现新的监管标准和导向，金融监管总局修订并发布《信托公司监管评级与分级分类监管暂行办法》，自发布之日起施行。《办法》共六章三十五条，从总体上对信托公司分级分类监管工作进行规范。一是明确监管评级要素与方法。二是明确监管评级组织实施流程。三是明确系统性影响评估要素与方法。四是明确分类监管原则与措施。《办法》的发布和实施，将进一步完善信托公司监管评级规则，提升信托公司分级分类监管的针对性和有效性，有利于加快推进信托行业转型发展，持续提升服务实体经济质效。\n国家金融监督管理总局发布《商业银行资本管理办法》\n为贯彻落实中央金融工作会议精神，全面加强金融监管，国家金融监督管理总局制定了《商业银行资本管理办法》，进一步完善商业银行资本监管规则，推动银行强化风险管理水平，提升服务实体经济质效。《办法》自2024年1月1日起正式实施。《办法》立足于我国商业银行实际情况，参考国际监管改革最新成果，全面完善了资本监管制度，主要内容包括：一是构建差异化资本监管体系,使资本监管与银行规模和业务复杂程度相匹配，降低中小银行合规成本。二是全面修订风险加权资产计量规则,包括信用风险权重法和内部评级法、市场风险标准法和内部模型法以及操作风险标准法，提升资本计量的风险敏感性。三是要求银行制定有效的政策、流程、制度和措施，及时、充分地掌握客户风险变化，确保风险权重的适用性和审慎性。四是强化监督检查，优化压力测试，深化第二支柱应用，进一步提升监管有效性。五是提高信息披露标准,强化相关定性和定量信息披露，增强市场约束。\n证监会拟修订《证券公司风险控制指标计算标准规定》\n为贯彻落实中央金融工作会议精神，全面加强机构监管，进一步完善证券公司风险控制指标体系，证监会拟对《证券公司风险控制指标计算标准规定》进行修订，主要内容包括：一是促进功能发挥，突出服务实体经济主责主业。对证券公司开展做市、资产管理、参与公募REITs等业务的风险控制指标计算标准予以优化，进一步引导证券公司在投资端、融资端、交易端发力，充分发挥长期价值投资、服务实体经济融资、服务居民财富管理、活跃资本市场等作用。二是强化分类监管，拓展优质证券公司资本空间。适当调整连续三年分类评价居前的证券公司的风险资本准备调整系数和表内外资产总额折算系数，推动试点内部模型法等风险计量高级方法，支持合规稳健的优质证券公司适度拓展资本空间，提升资本使用效率，做优做强。三是突出风险管理，切实提升风控指标的有效性。根据业务风险特征和期限匹配性，合理完善计算标准，细化不同期限资产的所需稳定资金，进一步提高风险控制指标的科学性。对场外衍生品等适当提高计量标准，加强监管力度，提高监管有效性，维护市场稳健运行。证监会现向社会公开征求意见。\n优化金融服务\n两部门：推动银行持续提升办理资本项目业务数字化服务水平\n中国人民银行、国家外汇管理局发布《关于提升银行办理资本项目业务数字化服务水平的通知》，在全国范围内推广资本项目业务数字化服务，推动银行通过“网上办”“远程办”方式为机构、个人等主体便捷高效办理资本项目外汇和跨境人民币业务。一是支持银行通过审核电子单证的方式办理资本项目业务。二是拓展资本项目数字化业务办理类型，将银行在线下有权限直接办理的资本项目下外汇和跨境人民币业务全面纳入数字化服务范围。三是明确银行办理资本项目数字化业务的形式和条件要求、业务审核及档案管理、相关数据与信息报送规则等。",
         "3292"
        ],
        [
         "3",
         "波士顿董事总经理、全球合伙人谭彦：数字化转型带来银行业全方位、体系性变革",
         "2023-12-01 10:27:00",
         "数字经济时代，新技术浪潮正在深刻改变银行业的运营模式和服务方式，同时也为银行业融入“数字中国”、赋能数字经济建设提供了全新机遇。\n波士顿咨询公司（BCG）董事总经理、全球合伙人谭彦在接受第一财经专访时表示，数字化的本质是基于海量可得数据的深度数据洞察，银行业数字化转型是对整个业务模式的深刻再造，是对于人才、能力、组织体系等的全方位、体系性变革。\n根据银保监会和中国证券业协会数据，2020年，银行、保险及证券行业信息科技总投入分别为2078亿元、351亿元、262.87亿元。艾瑞咨询测算，2023年，银行、保险和证券行业信息科技总投入预计将达到3668亿元、648亿元、495亿元，较2020年增长76.5%、84.6%、88.3%。\n银行业迈入全面数字化转型新阶段\n移动互联网时代，智能手机的普及让网上银行、手机银行成为获取银行服务的主要渠道，银行业的信息化建设走在大部分行业前列。信息化的本质是电子化和线上化，通过对银行内部业务流程的管理，改变银行传统线下网点作业模式。\n随着人工智能、云计算、大数据等数字技术的突破，银行业迈入全面数字化转型新阶段。谭彦表示，数字化跟信息化有着非常大的区别，数字化的本质是基于海量可得数据的深度数据洞察。\n数字化转型首先带来的是客户服务模式的转变。数字化时代，数据可得性和可用性极大增加，银行业需要借助数字化手段挖掘数据价值，通过海量数据分析精准洞察用户需求，以“客户为中心”去开展客户服务和运营。\n随着人口红利的消失，传统金融机构的获客成本逐年走高，以客户为中心的精细化、场景化的全域营销成为金融机构破解获客难题的关键。\n银行商业模式从以产品为中心转向以用户为中心，通过对客户分层，建立差异化服务体系，匹配相对应的服务标准和团队配置。例如针对“优质银发”“车主客群”等客户集群，制订特色经营策略，从而实现产品精准推送。\n参照波士顿（BCG）全球领先银行案例，有效落实个性化客群经营可以为银行带来客户体验与业绩优化的双丰收，客户流失率降低5%到10%，互动率提高100%到200%，业务处理成本降低20%到30%，收入增长5%到15%。\n全面数字化重塑银行业务体系\n与信息化时代偏后台工程的建设改造不同，银行全面数字化将重塑银行体系，创新商业模式和业务体系。\n新的信息科技技术成为银行差异化竞争力的来源。尽管近两年银行业整体业绩表现不佳，但在信息科技的建设上，无论是国有大行还是股份制商业银行都在加大投入。2022年，国有大行和股份制商业银行的平均信息科技投入占营收比例达到3.16%、3.9%，较2021年分别提高0.24、0.32个百分点。六大国有大型商业银行2022年信息科技投入规模合计超千亿，达到1165.49亿元。兴业银行、华夏银行、中信银行等股份制商业银行2022年金融科技投入增速保持两位数增长。\n除了资金投入，数字化对银行在人才体系的建设上也提出了更高要求。全面数字化转型需要一支既精通银行业务有金融专业背景，又具备金融科技研发能力的复合型人才队伍，而盲目引进技术人才、增加技术人才编制不仅成本过高，转型效果也很难达到预期。\n波士顿提出，在科技人才体系建设上，银行可以聚焦“领头羊”和关键岗位的人才引进，调高招聘层级，充分发挥“科技领头羊”在理念、技术、经验上的优势，建立起配套的管理体系、制度、标准和流程，通过培养银行业复合型科技人才，带出数字化队伍。\n同时，银行需要自上而下重构组织架构，通过设立数字化转型委员会或办公室，统筹各业务条线的数字化转型规划，按需调配人力物力，解决跨条线、跨部门协作难题，推动重大项目数字化转型落地。\n人工智能赋能银行业务革新\n2023年以来，ChatGPT引爆各行各业对生成式AI（AIGC）的应用探索。在帮助金融机构提升客户服务响应能力、为用户提供个性化理财建议、增强市场洞察能力强化市场营销、增强风控能力等方面，生成式AI技术有很大的应用前景，被视为金融服务方式革新的一个关键因素。\n在前台业务方面，AI技术被广泛应用在智能营销、智能客服、智能投顾等领域，AIGC技术将对传统AI服务类应用进行升级，有效解决传统AI在自然语言理解及表达能力上的不足。\n在中后台业务方面，不同金融机构结合自身业务进行布局，例如银行利用AIGC技术升级风控管理系统保障客户资金安全，保险机构则应用在风险评估及理赔预测方面。\n生成式AI在金融业的应用场景可贯穿前中后台各个环节，AIGC技术的突破将推动金融机构实现规模化应用，有望带来可观的降本增效收益。\n谭彦表示，数字化转型的下一个主战场一定是智能化。不管是从技术的成熟度、数据应用的意识，还是从基础信息系统建立的完备度来讲，人工智能都到了一个爆发的基点。\n   ",
         "1946"
        ],
        [
         "4",
         "工行：近期与多家重点房企对接交流，主要采取一对一等形式",
         "2023-12-01 09:58:00",
         "近日，浙商银行、建设银行、交通银行等多家银行（拟）召开房企座谈会，市场对于新一轮房企融资支持政策落地预期升温。（详见报道：《新一轮房企融资支持如何实施？“三个不低于”落地预期升温》）\n就在11月30日，有消息称，碧桂园获邀参加某国有大行组织的房企座谈会，也是目前公开信息中唯一一家受邀参会的“出险”房企。但据第一财经记者从工商银行了解到，为深入贯彻中央金融工作会议精神，落实国家相关部门政策要求，近期该行积极对接多家重点房地产企业，但主要采取一对一等形式深入开展业务交流，共商新形势下的银企合作，助力构建房地产发展新模式。\n据了解，工商银行近期联系交流的房地产企业涵盖各类市场主体，既包括全国性房地产企业，也包括区域性房地产企业，既包括国有企业，也包括民营企业及混合所有制企业。银企双方围绕如何落实国家政策要求、适应市场变化、保障企业和居民合理融资需求、做好“保交楼”工作、化解房地产风险等方面深入探讨，加强业务对接，共同推动房地产市场平稳健康发展。\n另据记者了解，今年以来，工商银行对公房地产贷款投放已超3000亿元，个人住房贷款投放近万亿元，同时，积极配合做好“保交楼”相关工作，加大对符合国家政策的房地产新领域的支持力度。\n下一步，工商银行方面表示，将积极践行国有大行责任担当，重点围绕刚性和改善性住房、租赁住房等领域，“城中村、保障房、平急两用”等三大工程，在房地产开发贷款、个人住房按揭贷款、并购贷款、银团贷款及债券承销与投资等方面加大资源投入，支持房企各周期多维度合理融资需求。同时，对非国有房企，从优化信贷政策、加快审批放款、明确尽职免责等方面入手，建立完善“敢贷、愿贷、能贷、会贷”的长效机制，持续提升对非国有房企的服务质效及支持力度。",
         "726"
        ]
       ],
       "shape": {
        "columns": 4,
        "rows": 5
       }
      },
      "text/html": [
       "<div>\n",
       "<style scoped>\n",
       "    .dataframe tbody tr th:only-of-type {\n",
       "        vertical-align: middle;\n",
       "    }\n",
       "\n",
       "    .dataframe tbody tr th {\n",
       "        vertical-align: top;\n",
       "    }\n",
       "\n",
       "    .dataframe thead th {\n",
       "        text-align: right;\n",
       "    }\n",
       "</style>\n",
       "<table border=\"1\" class=\"dataframe\">\n",
       "  <thead>\n",
       "    <tr style=\"text-align: right;\">\n",
       "      <th></th>\n",
       "      <th>title</th>\n",
       "      <th>datetime</th>\n",
       "      <th>text</th>\n",
       "      <th>text_length</th>\n",
       "    </tr>\n",
       "  </thead>\n",
       "  <tbody>\n",
       "    <tr>\n",
       "      <th>0</th>\n",
       "      <td>央行：11月对金融机构开展常备借贷便利操作共48.71亿元</td>\n",
       "      <td>2023-12-01 16:29:00</td>\n",
       "      <td>12月1日，央行公布2023年11月常备借贷便利开展情况。为满足金融机构临时性流动性需求，2...</td>\n",
       "      <td>211</td>\n",
       "    </tr>\n",
       "    <tr>\n",
       "      <th>1</th>\n",
       "      <td>汇正财经荣获第六届社会责任大会“年度最有温度金融公司”称号</td>\n",
       "      <td>2023-12-01 15:43:00</td>\n",
       "      <td>2023年11月29日，第六届社会责任大会暨“2023奥纳奖颁奖典礼”在北京召开。凭借多年来...</td>\n",
       "      <td>1450</td>\n",
       "    </tr>\n",
       "    <tr>\n",
       "      <th>2</th>\n",
       "      <td>近期密集出台金融政策，一文速览！</td>\n",
       "      <td>2023-12-01 15:21:00</td>\n",
       "      <td>中央金融工作会议强调，要加快建设金融强国，全面加强金融监管，完善金融体制，优化金融服务，防范...</td>\n",
       "      <td>3292</td>\n",
       "    </tr>\n",
       "    <tr>\n",
       "      <th>3</th>\n",
       "      <td>波士顿董事总经理、全球合伙人谭彦：数字化转型带来银行业全方位、体系性变革</td>\n",
       "      <td>2023-12-01 10:27:00</td>\n",
       "      <td>数字经济时代，新技术浪潮正在深刻改变银行业的运营模式和服务方式，同时也为银行业融入“数字中国...</td>\n",
       "      <td>1946</td>\n",
       "    </tr>\n",
       "    <tr>\n",
       "      <th>4</th>\n",
       "      <td>工行：近期与多家重点房企对接交流，主要采取一对一等形式</td>\n",
       "      <td>2023-12-01 09:58:00</td>\n",
       "      <td>近日，浙商银行、建设银行、交通银行等多家银行（拟）召开房企座谈会，市场对于新一轮房企融资支持...</td>\n",
       "      <td>726</td>\n",
       "    </tr>\n",
       "  </tbody>\n",
       "</table>\n",
       "</div>"
      ],
      "text/plain": [
       "                                  title            datetime  \\\n",
       "0         央行：11月对金融机构开展常备借贷便利操作共48.71亿元 2023-12-01 16:29:00   \n",
       "1         汇正财经荣获第六届社会责任大会“年度最有温度金融公司”称号 2023-12-01 15:43:00   \n",
       "2                      近期密集出台金融政策，一文速览！ 2023-12-01 15:21:00   \n",
       "3  波士顿董事总经理、全球合伙人谭彦：数字化转型带来银行业全方位、体系性变革 2023-12-01 10:27:00   \n",
       "4           工行：近期与多家重点房企对接交流，主要采取一对一等形式 2023-12-01 09:58:00   \n",
       "\n",
       "                                                text  text_length  \n",
       "0  12月1日，央行公布2023年11月常备借贷便利开展情况。为满足金融机构临时性流动性需求，2...          211  \n",
       "1  2023年11月29日，第六届社会责任大会暨“2023奥纳奖颁奖典礼”在北京召开。凭借多年来...         1450  \n",
       "2  中央金融工作会议强调，要加快建设金融强国，全面加强金融监管，完善金融体制，优化金融服务，防范...         3292  \n",
       "3  数字经济时代，新技术浪潮正在深刻改变银行业的运营模式和服务方式，同时也为银行业融入“数字中国...         1946  \n",
       "4  近日，浙商银行、建设银行、交通银行等多家银行（拟）召开房企座谈会，市场对于新一轮房企融资支持...          726  "
      ]
     },
     "execution_count": 6,
     "metadata": {},
     "output_type": "execute_result"
    }
   ],
   "source": [
    "news = news[news['datetime'].str.match(r'^\\d{4}-\\d{2}-\\d{2} \\d{2}:\\d{2}$', na=False)]\n",
    "news['datetime'] = pd.to_datetime(news['datetime'])\n",
    "\n",
    "news = news.drop_duplicates(subset=['text', 'title'])\n",
    "news.dropna(inplace=True)\n",
    "news = news[news.datetime >= '2023-01-01']\n",
    "\n",
    "news['text_length'] = news['text'].str.len()\n",
    "\n",
    "\n",
    "news.head()"
   ]
  },
  {
   "cell_type": "code",
   "execution_count": 78,
   "id": "07874f7a",
   "metadata": {},
   "outputs": [
    {
     "name": "stdout",
     "output_type": "stream",
     "text": [
      "Статей: 4483\n"
     ]
    }
   ],
   "source": [
    "print(f\"Статей: {news.shape[0]}\")"
   ]
  },
  {
   "cell_type": "code",
   "execution_count": 79,
   "id": "fc340489",
   "metadata": {},
   "outputs": [
    {
     "name": "stdout",
     "output_type": "stream",
     "text": [
      "Среднее число статей в месяц: 186.79\n",
      "Среднее количество слов в статье: 1943.24\n"
     ]
    }
   ],
   "source": [
    "news['month'] = news['datetime'].dt.to_period('M')\n",
    "\n",
    "articles_per_month = news.groupby('month').size()\n",
    "\n",
    "avg_articles_per_month = articles_per_month.mean()\n",
    "\n",
    "print(f\"Среднее число статей в месяц: {avg_articles_per_month:.2f}\")\n",
    "print(f\"Среднее количество слов в статье: {news.text_length.mean():.2f}\")"
   ]
  },
  {
   "cell_type": "markdown",
   "id": "6478ac4f",
   "metadata": {},
   "source": [
    "# News (old)"
   ]
  },
  {
   "cell_type": "markdown",
   "id": "7fd09285",
   "metadata": {},
   "source": [
    "\n",
    "### Сущность данных\n",
    "Тексты статей на английском, французском и арабском языках, взятые с помощью специального API Media Stack. Изначально запрашивал категории general + finance, но получил статьи только по general.\n",
    "\n",
    "### Источник\n",
    "[Media Stack (historical news API)](https://mediastack.com/documentation)\n",
    "\n",
    "### Поля\n",
    "- author\n",
    "- title\n",
    "- description\n",
    "- url\n",
    "- source\n",
    "- category\n",
    "- language\n",
    "- country\n",
    "- published_at\n",
    "\n",
    "### Временной период\n",
    "Данные доступны за 2023-2024\n",
    "\n",
    "Гранулярность – день"
   ]
  },
  {
   "cell_type": "code",
   "execution_count": 3,
   "id": "b80c1f9e",
   "metadata": {},
   "outputs": [],
   "source": [
    "files = [\"news_2023.csv\", \"news_2024.csv\"]\n",
    "\n",
    "dataframes = [pd.read_csv(os.path.join(\"../data/news_old\", file)) for file in files]\n",
    "news_old = pd.concat(dataframes, ignore_index=True)\n",
    "\n",
    "news_old = news_old.drop(columns=['image'])\n",
    "# news_old['published_at'] = pd.to_datetime(news_old['published_at']).dt.strftime('%Y-%m-%d %H-%M')\n",
    "news_old = news_old.drop_duplicates().dropna()\n",
    "\n",
    "news_old['desc_length'] = news_old['description'].str.len()"
   ]
  },
  {
   "cell_type": "code",
   "execution_count": 4,
   "id": "b27eac7c",
   "metadata": {},
   "outputs": [
    {
     "data": {
      "application/vnd.microsoft.datawrangler.viewer.v0+json": {
       "columns": [
        {
         "name": "index",
         "rawType": "int64",
         "type": "integer"
        },
        {
         "name": "author",
         "rawType": "object",
         "type": "string"
        },
        {
         "name": "title",
         "rawType": "object",
         "type": "string"
        },
        {
         "name": "description",
         "rawType": "object",
         "type": "string"
        },
        {
         "name": "url",
         "rawType": "object",
         "type": "string"
        },
        {
         "name": "source",
         "rawType": "object",
         "type": "string"
        },
        {
         "name": "category",
         "rawType": "object",
         "type": "string"
        },
        {
         "name": "language",
         "rawType": "object",
         "type": "string"
        },
        {
         "name": "country",
         "rawType": "object",
         "type": "string"
        },
        {
         "name": "published_at",
         "rawType": "object",
         "type": "string"
        },
        {
         "name": "desc_length",
         "rawType": "int64",
         "type": "integer"
        }
       ],
       "conversionMethod": "pd.DataFrame",
       "ref": "7d828cbd-6241-4995-9669-319047adffd7",
       "rows": [
        [
         "0",
         "Patricia Fersch, Contributor",
         "Can I Reduce My Child Support Payments Because I Am Now Unemployed?",
         "In addition to the emotional impact of being laid off, there is the harsh reality of having to pay the monthly bills-rent, mortgage, utilities, phone, child care, food, clothing and all the ancillary items related to maintaining a household and supporting children.",
         "https://www.forbes.com/sites/patriciafersch/2023/01/31/can-i-reduce-my-child-support-payments-because-i-am-now-unemployed/",
         "Leadership",
         "general",
         "en",
         "ng",
         "2023-01-31T23:34:51+00:00",
         "265"
        ],
        [
         "1",
         "Elizabeth Freedman, Contributor",
         "Why CEOs Must Lead With Inspiration In 2023",
         "Out of everything CEOs and senior leaders could be doing to help their organizations navigate 2023, what’s missing is a deliberate focus on inspiration. As companies consider the headwinds they are facing, it can be a powerful (and underutilized) lever to pull when it comes to company performance.",
         "https://www.forbes.com/sites/elizabethfreedman/2023/01/31/why-ceos-must-lead-with-inspiration-in-2023/",
         "Leadership",
         "general",
         "en",
         "ng",
         "2023-01-31T23:23:17+00:00",
         "298"
        ],
        [
         "2",
         "Peter High, Contributor",
         "Wendy’s CIO Kevin Vasconi Rethinks Customer Experience For The Digital Age",
         "Kevin Vasconi has been a digital trailblazer, especially in the restaurant industry. For the past two plus years, he has translated all he has learned as the CIO at Wendy's. His vision for the future forms a models others should emulate.",
         "https://www.forbes.com/sites/peterhigh/2023/01/31/wendys-cio-kevin-vasconi-rethinks-customer-experience-for-the-digital-age/",
         "Leadership",
         "general",
         "en",
         "ng",
         "2023-01-31T23:22:06+00:00",
         "237"
        ],
        [
         "3",
         "Zenger News, Contributor",
         "Three Things Leaders Should Know About A European Dictator’s Trip To Africa",
         "Belarusian President Alexander Lukashenko arrived in Zimbabwe this week for a visit with Zimbabwean President Emmerson Mnangagwa. Here is What Biz Leaders Need To Know",
         "https://www.forbes.com/sites/zengernews/2023/01/31/three-things-leaders-should-know-about-a-european-dictators-trip-to-africa/",
         "Leadership",
         "general",
         "en",
         "ng",
         "2023-01-31T23:07:23+00:00",
         "167"
        ],
        [
         "4",
         "Kenneth J. Williams Jr., Contributor",
         "Trevor Noah On What He’s Most Excited About For This Year’s GRAMMY Awards",
         "It’s a monumental moment for the world of music as the GRAMMY Awards prepares to celebrate its 65th anniversary this week.",
         "https://www.forbes.com/sites/kennethjwilliamsjr/2023/01/31/trevor-noah-on-what-hes-most-excited-about-for-this-years-grammy-awards/",
         "Leadership",
         "general",
         "en",
         "ng",
         "2023-01-31T22:39:00+00:00",
         "122"
        ]
       ],
       "shape": {
        "columns": 10,
        "rows": 5
       }
      },
      "text/html": [
       "<div>\n",
       "<style scoped>\n",
       "    .dataframe tbody tr th:only-of-type {\n",
       "        vertical-align: middle;\n",
       "    }\n",
       "\n",
       "    .dataframe tbody tr th {\n",
       "        vertical-align: top;\n",
       "    }\n",
       "\n",
       "    .dataframe thead th {\n",
       "        text-align: right;\n",
       "    }\n",
       "</style>\n",
       "<table border=\"1\" class=\"dataframe\">\n",
       "  <thead>\n",
       "    <tr style=\"text-align: right;\">\n",
       "      <th></th>\n",
       "      <th>author</th>\n",
       "      <th>title</th>\n",
       "      <th>description</th>\n",
       "      <th>url</th>\n",
       "      <th>source</th>\n",
       "      <th>category</th>\n",
       "      <th>language</th>\n",
       "      <th>country</th>\n",
       "      <th>published_at</th>\n",
       "      <th>desc_length</th>\n",
       "    </tr>\n",
       "  </thead>\n",
       "  <tbody>\n",
       "    <tr>\n",
       "      <th>0</th>\n",
       "      <td>Patricia Fersch, Contributor</td>\n",
       "      <td>Can I Reduce My Child Support Payments Because...</td>\n",
       "      <td>In addition to the emotional impact of being l...</td>\n",
       "      <td>https://www.forbes.com/sites/patriciafersch/20...</td>\n",
       "      <td>Leadership</td>\n",
       "      <td>general</td>\n",
       "      <td>en</td>\n",
       "      <td>ng</td>\n",
       "      <td>2023-01-31T23:34:51+00:00</td>\n",
       "      <td>265</td>\n",
       "    </tr>\n",
       "    <tr>\n",
       "      <th>1</th>\n",
       "      <td>Elizabeth Freedman, Contributor</td>\n",
       "      <td>Why CEOs Must Lead With Inspiration In 2023</td>\n",
       "      <td>Out of everything CEOs and senior leaders coul...</td>\n",
       "      <td>https://www.forbes.com/sites/elizabethfreedman...</td>\n",
       "      <td>Leadership</td>\n",
       "      <td>general</td>\n",
       "      <td>en</td>\n",
       "      <td>ng</td>\n",
       "      <td>2023-01-31T23:23:17+00:00</td>\n",
       "      <td>298</td>\n",
       "    </tr>\n",
       "    <tr>\n",
       "      <th>2</th>\n",
       "      <td>Peter High, Contributor</td>\n",
       "      <td>Wendy’s CIO Kevin Vasconi Rethinks Customer Ex...</td>\n",
       "      <td>Kevin Vasconi has been a digital trailblazer, ...</td>\n",
       "      <td>https://www.forbes.com/sites/peterhigh/2023/01...</td>\n",
       "      <td>Leadership</td>\n",
       "      <td>general</td>\n",
       "      <td>en</td>\n",
       "      <td>ng</td>\n",
       "      <td>2023-01-31T23:22:06+00:00</td>\n",
       "      <td>237</td>\n",
       "    </tr>\n",
       "    <tr>\n",
       "      <th>3</th>\n",
       "      <td>Zenger News, Contributor</td>\n",
       "      <td>Three Things Leaders Should Know About A Europ...</td>\n",
       "      <td>Belarusian President Alexander Lukashenko arri...</td>\n",
       "      <td>https://www.forbes.com/sites/zengernews/2023/0...</td>\n",
       "      <td>Leadership</td>\n",
       "      <td>general</td>\n",
       "      <td>en</td>\n",
       "      <td>ng</td>\n",
       "      <td>2023-01-31T23:07:23+00:00</td>\n",
       "      <td>167</td>\n",
       "    </tr>\n",
       "    <tr>\n",
       "      <th>4</th>\n",
       "      <td>Kenneth J. Williams Jr., Contributor</td>\n",
       "      <td>Trevor Noah On What He’s Most Excited About Fo...</td>\n",
       "      <td>It’s a monumental moment for the world of musi...</td>\n",
       "      <td>https://www.forbes.com/sites/kennethjwilliamsj...</td>\n",
       "      <td>Leadership</td>\n",
       "      <td>general</td>\n",
       "      <td>en</td>\n",
       "      <td>ng</td>\n",
       "      <td>2023-01-31T22:39:00+00:00</td>\n",
       "      <td>122</td>\n",
       "    </tr>\n",
       "  </tbody>\n",
       "</table>\n",
       "</div>"
      ],
      "text/plain": [
       "                                 author  \\\n",
       "0          Patricia Fersch, Contributor   \n",
       "1       Elizabeth Freedman, Contributor   \n",
       "2               Peter High, Contributor   \n",
       "3              Zenger News, Contributor   \n",
       "4  Kenneth J. Williams Jr., Contributor   \n",
       "\n",
       "                                               title  \\\n",
       "0  Can I Reduce My Child Support Payments Because...   \n",
       "1        Why CEOs Must Lead With Inspiration In 2023   \n",
       "2  Wendy’s CIO Kevin Vasconi Rethinks Customer Ex...   \n",
       "3  Three Things Leaders Should Know About A Europ...   \n",
       "4  Trevor Noah On What He’s Most Excited About Fo...   \n",
       "\n",
       "                                         description  \\\n",
       "0  In addition to the emotional impact of being l...   \n",
       "1  Out of everything CEOs and senior leaders coul...   \n",
       "2  Kevin Vasconi has been a digital trailblazer, ...   \n",
       "3  Belarusian President Alexander Lukashenko arri...   \n",
       "4  It’s a monumental moment for the world of musi...   \n",
       "\n",
       "                                                 url      source category  \\\n",
       "0  https://www.forbes.com/sites/patriciafersch/20...  Leadership  general   \n",
       "1  https://www.forbes.com/sites/elizabethfreedman...  Leadership  general   \n",
       "2  https://www.forbes.com/sites/peterhigh/2023/01...  Leadership  general   \n",
       "3  https://www.forbes.com/sites/zengernews/2023/0...  Leadership  general   \n",
       "4  https://www.forbes.com/sites/kennethjwilliamsj...  Leadership  general   \n",
       "\n",
       "  language country               published_at  desc_length  \n",
       "0       en      ng  2023-01-31T23:34:51+00:00          265  \n",
       "1       en      ng  2023-01-31T23:23:17+00:00          298  \n",
       "2       en      ng  2023-01-31T23:22:06+00:00          237  \n",
       "3       en      ng  2023-01-31T23:07:23+00:00          167  \n",
       "4       en      ng  2023-01-31T22:39:00+00:00          122  "
      ]
     },
     "execution_count": 4,
     "metadata": {},
     "output_type": "execute_result"
    }
   ],
   "source": [
    "news_old.head()"
   ]
  },
  {
   "cell_type": "code",
   "execution_count": 108,
   "id": "f9b3e0f3",
   "metadata": {},
   "outputs": [
    {
     "name": "stdout",
     "output_type": "stream",
     "text": [
      "Среднее число статей в месяц: 4436.25\n",
      "Среднее количество символов в статье: 422.49\n"
     ]
    },
    {
     "name": "stderr",
     "output_type": "stream",
     "text": [
      "/var/folders/0w/y2wjb705539ckxrjgz4jqckc0000gn/T/ipykernel_3660/1638759797.py:2: UserWarning: Converting to PeriodArray/Index representation will drop timezone information.\n",
      "  news_old['month'] = news_old['datetime'].dt.to_period('M')\n"
     ]
    }
   ],
   "source": [
    "news_old['datetime'] = pd.to_datetime(news_old['published_at'], errors='coerce')\n",
    "news_old['month'] = news_old['datetime'].dt.to_period('M')\n",
    "\n",
    "articles_per_month = news_old.groupby('month').size()\n",
    "\n",
    "news_old['text_length'] = news_old['description'].str.len()\n",
    "\n",
    "avg_articles_per_month = articles_per_month.mean()\n",
    "avg_chars_per_article = news_old['text_length'].mean()\n",
    "\n",
    "print(f\"Среднее число статей в месяц: {avg_articles_per_month:.2f}\")\n",
    "print(f\"Среднее количество символов в статье: {avg_chars_per_article:.2f}\")"
   ]
  },
  {
   "cell_type": "code",
   "execution_count": 109,
   "id": "b9f7d513",
   "metadata": {},
   "outputs": [
    {
     "data": {
      "text/plain": [
       "country\n",
       "ng    71038\n",
       "za    22847\n",
       "ma    10933\n",
       "cn      958\n",
       "hk      519\n",
       "eg      175\n",
       "Name: count, dtype: int64"
      ]
     },
     "execution_count": 109,
     "metadata": {},
     "output_type": "execute_result"
    }
   ],
   "source": [
    "news_old.country.value_counts()"
   ]
  },
  {
   "cell_type": "code",
   "execution_count": 110,
   "id": "f8651f8f",
   "metadata": {},
   "outputs": [
    {
     "data": {
      "text/plain": [
       "language\n",
       "en    95362\n",
       "fr    10931\n",
       "ar      177\n",
       "Name: count, dtype: int64"
      ]
     },
     "execution_count": 110,
     "metadata": {},
     "output_type": "execute_result"
    }
   ],
   "source": [
    "news_old.language.value_counts()"
   ]
  },
  {
   "cell_type": "markdown",
   "id": "e89affa3",
   "metadata": {},
   "source": [
    "Вообще нет китайского языка :("
   ]
  },
  {
   "cell_type": "code",
   "execution_count": 111,
   "id": "b5470dcb",
   "metadata": {},
   "outputs": [
    {
     "data": {
      "text/plain": [
       "category\n",
       "general    106470\n",
       "Name: count, dtype: int64"
      ]
     },
     "execution_count": 111,
     "metadata": {},
     "output_type": "execute_result"
    }
   ],
   "source": [
    "news_old.category.value_counts()"
   ]
  },
  {
   "cell_type": "markdown",
   "id": "3ef8a395",
   "metadata": {},
   "source": [
    "По какой-то причине спарсились только статьи по категории general (должна быть еще категория finance)"
   ]
  }
 ],
 "metadata": {
  "kernelspec": {
   "display_name": ".venv",
   "language": "python",
   "name": "python3"
  },
  "language_info": {
   "codemirror_mode": {
    "name": "ipython",
    "version": 3
   },
   "file_extension": ".py",
   "mimetype": "text/x-python",
   "name": "python",
   "nbconvert_exporter": "python",
   "pygments_lexer": "ipython3",
   "version": "3.9.6"
  }
 },
 "nbformat": 4,
 "nbformat_minor": 5
}
